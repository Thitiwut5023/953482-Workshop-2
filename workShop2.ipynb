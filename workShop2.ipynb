{
 "cells": [
  {
   "metadata": {},
   "cell_type": "markdown",
   "source": [
    "# WorkShop_2 Pre-processing\n",
    "\n",
    "- Use the IMDB Dataset of 50K Movie Reviews (train and test)\n",
    "- Step 1: Text cleaning\n",
    "    - Remove special chars, numbers, and extra spaces\n",
    "- Step 2. Tokenization\n",
    "    - Split into sentences and words\n",
    "- Step 3. Lowercasing and Stop word removal\n",
    "    - Covert text to lowercase\n",
    "- Step 4 Emoticons, Stemming and Lemmatization\n",
    "    - Final: Check readability score Flesch-Kincaid (report in class)"
   ],
   "id": "ebb43c515dac3cbb"
  },
  {
   "metadata": {
    "ExecuteTime": {
     "end_time": "2024-12-13T14:49:31.248693Z",
     "start_time": "2024-12-13T14:49:27.821644Z"
    }
   },
   "cell_type": "code",
   "source": [
    "import re\n",
    "import nltk\n",
    "import pandas as pd\n",
    "from nltk.tokenize import word_tokenize, sent_tokenize\n",
    "from nltk.corpus import stopwords\n",
    "from nltk.stem import PorterStemmer, WordNetLemmatizer\n",
    "import textstat\n",
    "\n",
    "# Ensure necessary NLTK data is downloaded\n",
    "nltk.download('punkt')\n",
    "nltk.download('stopwords')\n",
    "nltk.download('wordnet')"
   ],
   "id": "51bf542745682fe7",
   "outputs": [
    {
     "name": "stderr",
     "output_type": "stream",
     "text": [
      "[nltk_data] Downloading package punkt to\n",
      "[nltk_data]     C:\\Users\\Admin\\AppData\\Roaming\\nltk_data...\n",
      "[nltk_data]   Package punkt is already up-to-date!\n",
      "[nltk_data] Downloading package stopwords to\n",
      "[nltk_data]     C:\\Users\\Admin\\AppData\\Roaming\\nltk_data...\n",
      "[nltk_data]   Package stopwords is already up-to-date!\n",
      "[nltk_data] Downloading package wordnet to\n",
      "[nltk_data]     C:\\Users\\Admin\\AppData\\Roaming\\nltk_data...\n",
      "[nltk_data]   Package wordnet is already up-to-date!\n"
     ]
    },
    {
     "data": {
      "text/plain": [
       "True"
      ]
     },
     "execution_count": 1,
     "metadata": {},
     "output_type": "execute_result"
    }
   ],
   "execution_count": 1
  },
  {
   "metadata": {
    "ExecuteTime": {
     "end_time": "2024-12-13T14:49:31.449721Z",
     "start_time": "2024-12-13T14:49:31.425433Z"
    }
   },
   "cell_type": "code",
   "source": [
    "# Define preprocessing functions\n",
    "def clean_text(text):\n",
    "    \"\"\"\n",
    "    Remove special characters and numbers from text, and remove extra spaces.\n",
    "    \"\"\"\n",
    "    text = re.sub(r'[^A-Za-z\\\\s]', '', text)\n",
    "    text = re.sub(r'\\\\s+', ' ', text).strip()\n",
    "    return text\n",
    "\n",
    "def tokenize_sentences(text):\n",
    "    \"\"\"Tokenize text into sentences.\"\"\"\n",
    "    return sent_tokenize(text)\n",
    "\n",
    "def tokenize_words(text):\n",
    "    \"\"\"Tokenize text into words.\"\"\"\n",
    "    return word_tokenize(text)\n",
    "\n",
    "def remove_stopwords(tokens):\n",
    "    \"\"\"Remove stopwords from a list of tokens.\"\"\"\n",
    "    stop_words = set(stopwords.words('english'))\n",
    "    return [word for word in tokens if word not in stop_words]\n",
    "\n",
    "def to_lowercase(tokens):\n",
    "    \"\"\"Convert tokens to lowercase.\"\"\"\n",
    "    return [word.lower() for word in tokens]\n",
    "\n",
    "def stem_tokens(tokens):\n",
    "    \"\"\"Apply stemming to tokens.\"\"\"\n",
    "    ps = PorterStemmer()\n",
    "    return [ps.stem(word) for word in tokens]\n",
    "\n",
    "def lemmatize_tokens(tokens):\n",
    "    \"\"\"Apply lemmatization to tokens.\"\"\"\n",
    "    lemmatizer = WordNetLemmatizer()\n",
    "    return [lemmatizer.lemmatize(word) for word in tokens]\n",
    "\n",
    "def calculate_readability(text):\n",
    "    \"\"\"Calculate the Flesch-Kincaid grade level of the text.\"\"\"\n",
    "    return textstat.flesch_kincaid_grade(text)\n"
   ],
   "id": "73c75261d19a257a",
   "outputs": [],
   "execution_count": 2
  },
  {
   "metadata": {
    "ExecuteTime": {
     "end_time": "2024-12-13T14:49:31.591531Z",
     "start_time": "2024-12-13T14:49:31.581825Z"
    }
   },
   "cell_type": "code",
   "source": [
    "# Function to preprocess text step-by-step\n",
    "def preprocess_with_grading(text):\n",
    "    \"\"\"\n",
    "    Preprocess text through multiple steps and calculate readability for each step.\n",
    "    \"\"\"\n",
    "    results = {\"Original\": text, \"Steps\": []}\n",
    "    steps = [\n",
    "        (\"Clean Text\", lambda t: clean_text(t)),\n",
    "        (\"Tokenize Sentences\", lambda t: ' '.join(tokenize_sentences(t))),\n",
    "        (\"Tokenize Words\", lambda t: ' '.join(tokenize_words(t))),\n",
    "        (\"Lowercase\", lambda t: ' '.join(to_lowercase(tokenize_words(t)))),\n",
    "        (\"Remove Stopwords\", lambda t: ' '.join(remove_stopwords(to_lowercase(tokenize_words(t))))),\n",
    "        (\"Stemming\", lambda t: ' '.join(stem_tokens(remove_stopwords(to_lowercase(tokenize_words(t)))))),\n",
    "        (\"Lemmatization\", lambda t: ' '.join(lemmatize_tokens(stem_tokens(remove_stopwords(to_lowercase(tokenize_words(t)))))))\n",
    "    ]\n",
    "\n",
    "    for name, func in steps:\n",
    "        text = func(text)\n",
    "        readability = calculate_readability(text)\n",
    "        results[\"Steps\"].append({\"Step\": name, \"Text\": text, \"Readability\": readability})\n",
    "\n",
    "    return results\n"
   ],
   "id": "2804af898468e660",
   "outputs": [],
   "execution_count": 3
  },
  {
   "metadata": {
    "ExecuteTime": {
     "end_time": "2024-12-13T14:49:32.190105Z",
     "start_time": "2024-12-13T14:49:31.597570Z"
    }
   },
   "cell_type": "code",
   "source": [
    "# Load CSV files\n",
    "f1 = 'data/test.csv'\n",
    "f2 = 'data/train.csv'\n",
    "\n",
    "df1 = pd.read_csv(f1)\n",
    "df2 = pd.read_csv(f2)\n",
    "\n",
    "# Process the files\n",
    "def process_file(df, file_name):\n",
    "    \"\"\"\n",
    "    Process a DataFrame by applying text preprocessing steps and saving results.\n",
    "    \"\"\"\n",
    "    results = []\n",
    "    for _, row in df.iterrows():\n",
    "        processed = preprocess_with_grading(row['text'])\n",
    "        results.append(processed)\n",
    "\n",
    "    # Save intermediate results to CSV\n",
    "    steps_data = []\n",
    "    for entry in results:\n",
    "        original = entry[\"Original\"]\n",
    "        for step in entry[\"Steps\"]:\n",
    "            steps_data.append(\n",
    "                {\"Original\": original, \"Step\": step[\"Step\"], \"Text\": step[\"Text\"], \"Readability\": step[\"Readability\"]})\n",
    "\n",
    "    steps_df = pd.DataFrame(steps_data)\n",
    "    steps_df.to_csv(f\"{file_name}_preprocessed_steps.csv\", index=False)\n",
    "\n",
    "    # Calculate overall readability grade\n",
    "    overall_readability = steps_df.groupby(\"Step\")[\"Readability\"].mean().to_dict()\n",
    "    print(f\"Overall Readability Grades for {file_name}: {overall_readability}\")\n",
    "\n",
    "    return overall_readability\n"
   ],
   "id": "872f8f6637997cec",
   "outputs": [],
   "execution_count": 4
  },
  {
   "metadata": {
    "ExecuteTime": {
     "end_time": "2024-12-13T15:01:44.631011Z",
     "start_time": "2024-12-13T14:49:32.229144Z"
    }
   },
   "cell_type": "code",
   "source": [
    "# Process test and train files\n",
    "test_readability = process_file(df1, \"test\")\n",
    "train_readability = process_file(df2, \"train\")\n"
   ],
   "id": "a9cddee5ced858f6",
   "outputs": [
    {
     "name": "stdout",
     "output_type": "stream",
     "text": [
      "Overall Readability Grades for test: {'Clean Text': 2673.376664, 'Lemmatization': 2670.592336, 'Lowercase': 2673.376664, 'Remove Stopwords': 2673.376664, 'Stemming': 2670.795768, 'Tokenize Sentences': 2673.376664, 'Tokenize Words': 2673.376664}\n",
      "Overall Readability Grades for train: {'Clean Text': 2741.811, 'Lemmatization': 2738.927552, 'Lowercase': 2741.811, 'Remove Stopwords': 2741.811, 'Stemming': 2739.1517519999998, 'Tokenize Sentences': 2741.811, 'Tokenize Words': 2741.811}\n"
     ]
    }
   ],
   "execution_count": 5
  }
 ],
 "metadata": {
  "kernelspec": {
   "display_name": "Python 3",
   "language": "python",
   "name": "python3"
  },
  "language_info": {
   "codemirror_mode": {
    "name": "ipython",
    "version": 2
   },
   "file_extension": ".py",
   "mimetype": "text/x-python",
   "name": "python",
   "nbconvert_exporter": "python",
   "pygments_lexer": "ipython2",
   "version": "2.7.6"
  }
 },
 "nbformat": 4,
 "nbformat_minor": 5
}
